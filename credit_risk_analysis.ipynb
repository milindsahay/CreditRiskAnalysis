{
  "nbformat": 4,
  "nbformat_minor": 0,
  "metadata": {
    "colab": {
      "name": "credit risk analysis.ipynb",
      "provenance": [],
      "collapsed_sections": []
    },
    "kernelspec": {
      "name": "python3",
      "display_name": "Python 3"
    },
    "accelerator": "GPU"
  },
  "cells": [
    {
      "cell_type": "code",
      "metadata": {
        "id": "0RFqku4s9EZR",
        "colab_type": "code",
        "colab": {
          "base_uri": "https://localhost:8080/",
          "height": 34
        },
        "outputId": "7228f564-a2fb-4cc9-db60-a6622636c146"
      },
      "source": [
        "import pandas as pd\n",
        "from sklearn.preprocessing import StandardScaler\n",
        "from keras import Sequential\n",
        "from keras.layers import Dense\n",
        "from sklearn.model_selection import train_test_split\n",
        "import matplotlib.pyplot as plt\n",
        "import seaborn as sns\n",
        "from sklearn.decomposition import PCA\n",
        "from sklearn.ensemble import RandomForestClassifier,GradientBoostingClassifier,AdaBoostClassifier\n",
        "from sklearn.tree import DecisionTreeClassifier"
      ],
      "execution_count": 1,
      "outputs": [
        {
          "output_type": "stream",
          "text": [
            "Using TensorFlow backend.\n"
          ],
          "name": "stderr"
        }
      ]
    },
    {
      "cell_type": "code",
      "metadata": {
        "id": "tLYUOoBS9Jyj",
        "colab_type": "code",
        "colab": {
          "base_uri": "https://localhost:8080/",
          "height": 204
        },
        "outputId": "3cf4070b-9a8a-441d-d7d9-875c3232d0a2"
      },
      "source": [
        "!wget https://archive.ics.uci.edu/ml/machine-learning-databases/00350/default%20of%20credit%20card%20clients.xls"
      ],
      "execution_count": 2,
      "outputs": [
        {
          "output_type": "stream",
          "text": [
            "--2019-10-17 15:55:20--  https://archive.ics.uci.edu/ml/machine-learning-databases/00350/default%20of%20credit%20card%20clients.xls\n",
            "Resolving archive.ics.uci.edu (archive.ics.uci.edu)... 128.195.10.252\n",
            "Connecting to archive.ics.uci.edu (archive.ics.uci.edu)|128.195.10.252|:443... connected.\n",
            "HTTP request sent, awaiting response... 200 OK\n",
            "Length: 5539328 (5.3M) [application/x-httpd-php]\n",
            "Saving to: ‘default of credit card clients.xls.3’\n",
            "\n",
            "\r          default o   0%[                    ]       0  --.-KB/s               \r         default of  14%[=>                  ] 783.00K  3.63MB/s               \rdefault of credit c 100%[===================>]   5.28M  17.6MB/s    in 0.3s    \n",
            "\n",
            "2019-10-17 15:55:20 (17.6 MB/s) - ‘default of credit card clients.xls.3’ saved [5539328/5539328]\n",
            "\n"
          ],
          "name": "stdout"
        }
      ]
    },
    {
      "cell_type": "code",
      "metadata": {
        "id": "cQdNy4kp9h6L",
        "colab_type": "code",
        "colab": {
          "base_uri": "https://localhost:8080/",
          "height": 68
        },
        "outputId": "1c365548-7cae-4019-e168-dc8f0ef07ccc"
      },
      "source": [
        "!ls"
      ],
      "execution_count": 3,
      "outputs": [
        {
          "output_type": "stream",
          "text": [
            "'default of credit card clients.xls'\t'default of credit card clients.xls.3'\n",
            "'default of credit card clients.xls.1'\t sample_data\n",
            "'default of credit card clients.xls.2'\n"
          ],
          "name": "stdout"
        }
      ]
    },
    {
      "cell_type": "code",
      "metadata": {
        "id": "MLmxWRt79lmX",
        "colab_type": "code",
        "colab": {}
      },
      "source": [
        "df = pd.read_excel(\"default of credit card clients.xls\",skiprows = [0],index_col=[0])"
      ],
      "execution_count": 0,
      "outputs": []
    },
    {
      "cell_type": "markdown",
      "metadata": {
        "id": "Q9sQR7fWRydB",
        "colab_type": "text"
      },
      "source": [
        "### This research employed a binary variable, default payment (Yes = 1, No = 0), as the response variable. This study reviewed the literature and used the following 23 variables as explanatory variables:\n",
        "#### X1: Amount of the given credit (NT dollar): it includes both the individual consumer credit and his/her family (supplementary) credit.\n",
        "#### X2: Gender (1 = male; 2 = female).\n",
        "#### X3: Education (1 = graduate school; 2 = university; 3 = high school; 4 = others).\n",
        "#### X4: Marital status (1 = married; 2 = single; 3 = others).\n",
        "#### X5: Age (year).\n",
        "#### X6 - X11: History of past payment. We tracked the past monthly payment records (from April to September, 2005) as follows: X6 = the repayment status in September, 2005; X7 = the repayment status in August, 2005; . . .;X11 = the repayment status in April, 2005. The measurement scale for the repayment status is: -1 = pay duly; 1 = payment delay for one month; 2 = payment delay for two months; . . .; 8 = payment delay for eight months; 9 = payment delay for nine months and above.\n",
        "#### X12-X17: Amount of bill statement (NT dollar). X12 = amount of bill statement in September, 2005; X13 = amount of bill statement in August, 2005; . . .; X17 = amount of bill statement in April, 2005.\n",
        "#### X18-X23: Amount of previous payment (NT dollar). X18 = amount paid in September, 2005; X19 = amount paid in August, 2005; . . .;X23 = amount paid in April, 2005."
      ]
    },
    {
      "cell_type": "code",
      "metadata": {
        "id": "7Gr4yWK-9uBo",
        "colab_type": "code",
        "colab": {
          "base_uri": "https://localhost:8080/",
          "height": 306
        },
        "outputId": "4675f44e-383c-4969-ac76-5544567bd84c"
      },
      "source": [
        "df.head()"
      ],
      "execution_count": 5,
      "outputs": [
        {
          "output_type": "execute_result",
          "data": {
            "text/html": [
              "<div>\n",
              "<style scoped>\n",
              "    .dataframe tbody tr th:only-of-type {\n",
              "        vertical-align: middle;\n",
              "    }\n",
              "\n",
              "    .dataframe tbody tr th {\n",
              "        vertical-align: top;\n",
              "    }\n",
              "\n",
              "    .dataframe thead th {\n",
              "        text-align: right;\n",
              "    }\n",
              "</style>\n",
              "<table border=\"1\" class=\"dataframe\">\n",
              "  <thead>\n",
              "    <tr style=\"text-align: right;\">\n",
              "      <th></th>\n",
              "      <th>LIMIT_BAL</th>\n",
              "      <th>SEX</th>\n",
              "      <th>EDUCATION</th>\n",
              "      <th>MARRIAGE</th>\n",
              "      <th>AGE</th>\n",
              "      <th>PAY_0</th>\n",
              "      <th>PAY_2</th>\n",
              "      <th>PAY_3</th>\n",
              "      <th>PAY_4</th>\n",
              "      <th>PAY_5</th>\n",
              "      <th>PAY_6</th>\n",
              "      <th>BILL_AMT1</th>\n",
              "      <th>BILL_AMT2</th>\n",
              "      <th>BILL_AMT3</th>\n",
              "      <th>BILL_AMT4</th>\n",
              "      <th>BILL_AMT5</th>\n",
              "      <th>BILL_AMT6</th>\n",
              "      <th>PAY_AMT1</th>\n",
              "      <th>PAY_AMT2</th>\n",
              "      <th>PAY_AMT3</th>\n",
              "      <th>PAY_AMT4</th>\n",
              "      <th>PAY_AMT5</th>\n",
              "      <th>PAY_AMT6</th>\n",
              "      <th>default payment next month</th>\n",
              "    </tr>\n",
              "    <tr>\n",
              "      <th>ID</th>\n",
              "      <th></th>\n",
              "      <th></th>\n",
              "      <th></th>\n",
              "      <th></th>\n",
              "      <th></th>\n",
              "      <th></th>\n",
              "      <th></th>\n",
              "      <th></th>\n",
              "      <th></th>\n",
              "      <th></th>\n",
              "      <th></th>\n",
              "      <th></th>\n",
              "      <th></th>\n",
              "      <th></th>\n",
              "      <th></th>\n",
              "      <th></th>\n",
              "      <th></th>\n",
              "      <th></th>\n",
              "      <th></th>\n",
              "      <th></th>\n",
              "      <th></th>\n",
              "      <th></th>\n",
              "      <th></th>\n",
              "      <th></th>\n",
              "    </tr>\n",
              "  </thead>\n",
              "  <tbody>\n",
              "    <tr>\n",
              "      <th>1</th>\n",
              "      <td>20000</td>\n",
              "      <td>2</td>\n",
              "      <td>2</td>\n",
              "      <td>1</td>\n",
              "      <td>24</td>\n",
              "      <td>2</td>\n",
              "      <td>2</td>\n",
              "      <td>-1</td>\n",
              "      <td>-1</td>\n",
              "      <td>-2</td>\n",
              "      <td>-2</td>\n",
              "      <td>3913</td>\n",
              "      <td>3102</td>\n",
              "      <td>689</td>\n",
              "      <td>0</td>\n",
              "      <td>0</td>\n",
              "      <td>0</td>\n",
              "      <td>0</td>\n",
              "      <td>689</td>\n",
              "      <td>0</td>\n",
              "      <td>0</td>\n",
              "      <td>0</td>\n",
              "      <td>0</td>\n",
              "      <td>1</td>\n",
              "    </tr>\n",
              "    <tr>\n",
              "      <th>2</th>\n",
              "      <td>120000</td>\n",
              "      <td>2</td>\n",
              "      <td>2</td>\n",
              "      <td>2</td>\n",
              "      <td>26</td>\n",
              "      <td>-1</td>\n",
              "      <td>2</td>\n",
              "      <td>0</td>\n",
              "      <td>0</td>\n",
              "      <td>0</td>\n",
              "      <td>2</td>\n",
              "      <td>2682</td>\n",
              "      <td>1725</td>\n",
              "      <td>2682</td>\n",
              "      <td>3272</td>\n",
              "      <td>3455</td>\n",
              "      <td>3261</td>\n",
              "      <td>0</td>\n",
              "      <td>1000</td>\n",
              "      <td>1000</td>\n",
              "      <td>1000</td>\n",
              "      <td>0</td>\n",
              "      <td>2000</td>\n",
              "      <td>1</td>\n",
              "    </tr>\n",
              "    <tr>\n",
              "      <th>3</th>\n",
              "      <td>90000</td>\n",
              "      <td>2</td>\n",
              "      <td>2</td>\n",
              "      <td>2</td>\n",
              "      <td>34</td>\n",
              "      <td>0</td>\n",
              "      <td>0</td>\n",
              "      <td>0</td>\n",
              "      <td>0</td>\n",
              "      <td>0</td>\n",
              "      <td>0</td>\n",
              "      <td>29239</td>\n",
              "      <td>14027</td>\n",
              "      <td>13559</td>\n",
              "      <td>14331</td>\n",
              "      <td>14948</td>\n",
              "      <td>15549</td>\n",
              "      <td>1518</td>\n",
              "      <td>1500</td>\n",
              "      <td>1000</td>\n",
              "      <td>1000</td>\n",
              "      <td>1000</td>\n",
              "      <td>5000</td>\n",
              "      <td>0</td>\n",
              "    </tr>\n",
              "    <tr>\n",
              "      <th>4</th>\n",
              "      <td>50000</td>\n",
              "      <td>2</td>\n",
              "      <td>2</td>\n",
              "      <td>1</td>\n",
              "      <td>37</td>\n",
              "      <td>0</td>\n",
              "      <td>0</td>\n",
              "      <td>0</td>\n",
              "      <td>0</td>\n",
              "      <td>0</td>\n",
              "      <td>0</td>\n",
              "      <td>46990</td>\n",
              "      <td>48233</td>\n",
              "      <td>49291</td>\n",
              "      <td>28314</td>\n",
              "      <td>28959</td>\n",
              "      <td>29547</td>\n",
              "      <td>2000</td>\n",
              "      <td>2019</td>\n",
              "      <td>1200</td>\n",
              "      <td>1100</td>\n",
              "      <td>1069</td>\n",
              "      <td>1000</td>\n",
              "      <td>0</td>\n",
              "    </tr>\n",
              "    <tr>\n",
              "      <th>5</th>\n",
              "      <td>50000</td>\n",
              "      <td>1</td>\n",
              "      <td>2</td>\n",
              "      <td>1</td>\n",
              "      <td>57</td>\n",
              "      <td>-1</td>\n",
              "      <td>0</td>\n",
              "      <td>-1</td>\n",
              "      <td>0</td>\n",
              "      <td>0</td>\n",
              "      <td>0</td>\n",
              "      <td>8617</td>\n",
              "      <td>5670</td>\n",
              "      <td>35835</td>\n",
              "      <td>20940</td>\n",
              "      <td>19146</td>\n",
              "      <td>19131</td>\n",
              "      <td>2000</td>\n",
              "      <td>36681</td>\n",
              "      <td>10000</td>\n",
              "      <td>9000</td>\n",
              "      <td>689</td>\n",
              "      <td>679</td>\n",
              "      <td>0</td>\n",
              "    </tr>\n",
              "  </tbody>\n",
              "</table>\n",
              "</div>"
            ],
            "text/plain": [
              "    LIMIT_BAL  SEX  EDUCATION  ...  PAY_AMT5  PAY_AMT6  default payment next month\n",
              "ID                             ...                                                \n",
              "1       20000    2          2  ...         0         0                           1\n",
              "2      120000    2          2  ...         0      2000                           1\n",
              "3       90000    2          2  ...      1000      5000                           0\n",
              "4       50000    2          2  ...      1069      1000                           0\n",
              "5       50000    1          2  ...       689       679                           0\n",
              "\n",
              "[5 rows x 24 columns]"
            ]
          },
          "metadata": {
            "tags": []
          },
          "execution_count": 5
        }
      ]
    },
    {
      "cell_type": "code",
      "metadata": {
        "id": "2IK1VxIY91pX",
        "colab_type": "code",
        "colab": {}
      },
      "source": [
        "x_col = df.columns[:-1]\n",
        "y_col = df.columns[-1]\n",
        "x = df[x_col]\n",
        "y = df[y_col]"
      ],
      "execution_count": 0,
      "outputs": []
    },
    {
      "cell_type": "code",
      "metadata": {
        "id": "3GCPHwgnSrNO",
        "colab_type": "code",
        "colab": {
          "base_uri": "https://localhost:8080/",
          "height": 297
        },
        "outputId": "5a76e37a-406a-49c5-9b59-9482a9344b2c"
      },
      "source": [
        "df[['PAY_AMT1', 'PAY_AMT2', 'PAY_AMT3', 'PAY_AMT4', 'PAY_AMT5', 'PAY_AMT6']].describe()\n"
      ],
      "execution_count": 7,
      "outputs": [
        {
          "output_type": "execute_result",
          "data": {
            "text/html": [
              "<div>\n",
              "<style scoped>\n",
              "    .dataframe tbody tr th:only-of-type {\n",
              "        vertical-align: middle;\n",
              "    }\n",
              "\n",
              "    .dataframe tbody tr th {\n",
              "        vertical-align: top;\n",
              "    }\n",
              "\n",
              "    .dataframe thead th {\n",
              "        text-align: right;\n",
              "    }\n",
              "</style>\n",
              "<table border=\"1\" class=\"dataframe\">\n",
              "  <thead>\n",
              "    <tr style=\"text-align: right;\">\n",
              "      <th></th>\n",
              "      <th>PAY_AMT1</th>\n",
              "      <th>PAY_AMT2</th>\n",
              "      <th>PAY_AMT3</th>\n",
              "      <th>PAY_AMT4</th>\n",
              "      <th>PAY_AMT5</th>\n",
              "      <th>PAY_AMT6</th>\n",
              "    </tr>\n",
              "  </thead>\n",
              "  <tbody>\n",
              "    <tr>\n",
              "      <th>count</th>\n",
              "      <td>30000.000000</td>\n",
              "      <td>3.000000e+04</td>\n",
              "      <td>30000.00000</td>\n",
              "      <td>30000.000000</td>\n",
              "      <td>30000.000000</td>\n",
              "      <td>30000.000000</td>\n",
              "    </tr>\n",
              "    <tr>\n",
              "      <th>mean</th>\n",
              "      <td>5663.580500</td>\n",
              "      <td>5.921163e+03</td>\n",
              "      <td>5225.68150</td>\n",
              "      <td>4826.076867</td>\n",
              "      <td>4799.387633</td>\n",
              "      <td>5215.502567</td>\n",
              "    </tr>\n",
              "    <tr>\n",
              "      <th>std</th>\n",
              "      <td>16563.280354</td>\n",
              "      <td>2.304087e+04</td>\n",
              "      <td>17606.96147</td>\n",
              "      <td>15666.159744</td>\n",
              "      <td>15278.305679</td>\n",
              "      <td>17777.465775</td>\n",
              "    </tr>\n",
              "    <tr>\n",
              "      <th>min</th>\n",
              "      <td>0.000000</td>\n",
              "      <td>0.000000e+00</td>\n",
              "      <td>0.00000</td>\n",
              "      <td>0.000000</td>\n",
              "      <td>0.000000</td>\n",
              "      <td>0.000000</td>\n",
              "    </tr>\n",
              "    <tr>\n",
              "      <th>25%</th>\n",
              "      <td>1000.000000</td>\n",
              "      <td>8.330000e+02</td>\n",
              "      <td>390.00000</td>\n",
              "      <td>296.000000</td>\n",
              "      <td>252.500000</td>\n",
              "      <td>117.750000</td>\n",
              "    </tr>\n",
              "    <tr>\n",
              "      <th>50%</th>\n",
              "      <td>2100.000000</td>\n",
              "      <td>2.009000e+03</td>\n",
              "      <td>1800.00000</td>\n",
              "      <td>1500.000000</td>\n",
              "      <td>1500.000000</td>\n",
              "      <td>1500.000000</td>\n",
              "    </tr>\n",
              "    <tr>\n",
              "      <th>75%</th>\n",
              "      <td>5006.000000</td>\n",
              "      <td>5.000000e+03</td>\n",
              "      <td>4505.00000</td>\n",
              "      <td>4013.250000</td>\n",
              "      <td>4031.500000</td>\n",
              "      <td>4000.000000</td>\n",
              "    </tr>\n",
              "    <tr>\n",
              "      <th>max</th>\n",
              "      <td>873552.000000</td>\n",
              "      <td>1.684259e+06</td>\n",
              "      <td>896040.00000</td>\n",
              "      <td>621000.000000</td>\n",
              "      <td>426529.000000</td>\n",
              "      <td>528666.000000</td>\n",
              "    </tr>\n",
              "  </tbody>\n",
              "</table>\n",
              "</div>"
            ],
            "text/plain": [
              "            PAY_AMT1      PAY_AMT2  ...       PAY_AMT5       PAY_AMT6\n",
              "count   30000.000000  3.000000e+04  ...   30000.000000   30000.000000\n",
              "mean     5663.580500  5.921163e+03  ...    4799.387633    5215.502567\n",
              "std     16563.280354  2.304087e+04  ...   15278.305679   17777.465775\n",
              "min         0.000000  0.000000e+00  ...       0.000000       0.000000\n",
              "25%      1000.000000  8.330000e+02  ...     252.500000     117.750000\n",
              "50%      2100.000000  2.009000e+03  ...    1500.000000    1500.000000\n",
              "75%      5006.000000  5.000000e+03  ...    4031.500000    4000.000000\n",
              "max    873552.000000  1.684259e+06  ...  426529.000000  528666.000000\n",
              "\n",
              "[8 rows x 6 columns]"
            ]
          },
          "metadata": {
            "tags": []
          },
          "execution_count": 7
        }
      ]
    },
    {
      "cell_type": "code",
      "metadata": {
        "id": "LLzD55o9SwL-",
        "colab_type": "code",
        "colab": {
          "base_uri": "https://localhost:8080/",
          "height": 297
        },
        "outputId": "db7a7cd4-7cf3-4bae-f800-1edd89462d61"
      },
      "source": [
        "df[['BILL_AMT1', 'BILL_AMT2', 'BILL_AMT3', 'BILL_AMT4', 'BILL_AMT5', 'BILL_AMT6']].describe()"
      ],
      "execution_count": 8,
      "outputs": [
        {
          "output_type": "execute_result",
          "data": {
            "text/html": [
              "<div>\n",
              "<style scoped>\n",
              "    .dataframe tbody tr th:only-of-type {\n",
              "        vertical-align: middle;\n",
              "    }\n",
              "\n",
              "    .dataframe tbody tr th {\n",
              "        vertical-align: top;\n",
              "    }\n",
              "\n",
              "    .dataframe thead th {\n",
              "        text-align: right;\n",
              "    }\n",
              "</style>\n",
              "<table border=\"1\" class=\"dataframe\">\n",
              "  <thead>\n",
              "    <tr style=\"text-align: right;\">\n",
              "      <th></th>\n",
              "      <th>BILL_AMT1</th>\n",
              "      <th>BILL_AMT2</th>\n",
              "      <th>BILL_AMT3</th>\n",
              "      <th>BILL_AMT4</th>\n",
              "      <th>BILL_AMT5</th>\n",
              "      <th>BILL_AMT6</th>\n",
              "    </tr>\n",
              "  </thead>\n",
              "  <tbody>\n",
              "    <tr>\n",
              "      <th>count</th>\n",
              "      <td>30000.000000</td>\n",
              "      <td>30000.000000</td>\n",
              "      <td>3.000000e+04</td>\n",
              "      <td>30000.000000</td>\n",
              "      <td>30000.000000</td>\n",
              "      <td>30000.000000</td>\n",
              "    </tr>\n",
              "    <tr>\n",
              "      <th>mean</th>\n",
              "      <td>51223.330900</td>\n",
              "      <td>49179.075167</td>\n",
              "      <td>4.701315e+04</td>\n",
              "      <td>43262.948967</td>\n",
              "      <td>40311.400967</td>\n",
              "      <td>38871.760400</td>\n",
              "    </tr>\n",
              "    <tr>\n",
              "      <th>std</th>\n",
              "      <td>73635.860576</td>\n",
              "      <td>71173.768783</td>\n",
              "      <td>6.934939e+04</td>\n",
              "      <td>64332.856134</td>\n",
              "      <td>60797.155770</td>\n",
              "      <td>59554.107537</td>\n",
              "    </tr>\n",
              "    <tr>\n",
              "      <th>min</th>\n",
              "      <td>-165580.000000</td>\n",
              "      <td>-69777.000000</td>\n",
              "      <td>-1.572640e+05</td>\n",
              "      <td>-170000.000000</td>\n",
              "      <td>-81334.000000</td>\n",
              "      <td>-339603.000000</td>\n",
              "    </tr>\n",
              "    <tr>\n",
              "      <th>25%</th>\n",
              "      <td>3558.750000</td>\n",
              "      <td>2984.750000</td>\n",
              "      <td>2.666250e+03</td>\n",
              "      <td>2326.750000</td>\n",
              "      <td>1763.000000</td>\n",
              "      <td>1256.000000</td>\n",
              "    </tr>\n",
              "    <tr>\n",
              "      <th>50%</th>\n",
              "      <td>22381.500000</td>\n",
              "      <td>21200.000000</td>\n",
              "      <td>2.008850e+04</td>\n",
              "      <td>19052.000000</td>\n",
              "      <td>18104.500000</td>\n",
              "      <td>17071.000000</td>\n",
              "    </tr>\n",
              "    <tr>\n",
              "      <th>75%</th>\n",
              "      <td>67091.000000</td>\n",
              "      <td>64006.250000</td>\n",
              "      <td>6.016475e+04</td>\n",
              "      <td>54506.000000</td>\n",
              "      <td>50190.500000</td>\n",
              "      <td>49198.250000</td>\n",
              "    </tr>\n",
              "    <tr>\n",
              "      <th>max</th>\n",
              "      <td>964511.000000</td>\n",
              "      <td>983931.000000</td>\n",
              "      <td>1.664089e+06</td>\n",
              "      <td>891586.000000</td>\n",
              "      <td>927171.000000</td>\n",
              "      <td>961664.000000</td>\n",
              "    </tr>\n",
              "  </tbody>\n",
              "</table>\n",
              "</div>"
            ],
            "text/plain": [
              "           BILL_AMT1      BILL_AMT2  ...      BILL_AMT5      BILL_AMT6\n",
              "count   30000.000000   30000.000000  ...   30000.000000   30000.000000\n",
              "mean    51223.330900   49179.075167  ...   40311.400967   38871.760400\n",
              "std     73635.860576   71173.768783  ...   60797.155770   59554.107537\n",
              "min   -165580.000000  -69777.000000  ...  -81334.000000 -339603.000000\n",
              "25%      3558.750000    2984.750000  ...    1763.000000    1256.000000\n",
              "50%     22381.500000   21200.000000  ...   18104.500000   17071.000000\n",
              "75%     67091.000000   64006.250000  ...   50190.500000   49198.250000\n",
              "max    964511.000000  983931.000000  ...  927171.000000  961664.000000\n",
              "\n",
              "[8 rows x 6 columns]"
            ]
          },
          "metadata": {
            "tags": []
          },
          "execution_count": 8
        }
      ]
    },
    {
      "cell_type": "markdown",
      "metadata": {
        "id": "VrWnHvu1S6Z5",
        "colab_type": "text"
      },
      "source": [
        "### Visualising defaulters according to their marriage "
      ]
    },
    {
      "cell_type": "code",
      "metadata": {
        "id": "pQokAWNyS4at",
        "colab_type": "code",
        "colab": {
          "base_uri": "https://localhost:8080/",
          "height": 340
        },
        "outputId": "89c3927b-8d94-4d22-fdf5-651cb54fa5f8"
      },
      "source": [
        "_MARRIAGE_RANGE= [1,2,3]\n",
        "plt.figure(figsize=(10,5))\n",
        "\n",
        "married= df['MARRIAGE'][df['MARRIAGE']==1].count()\n",
        "married_default = df['MARRIAGE'][(df['MARRIAGE']==1)&(df['default payment next month']==1)].count()\n",
        "\n",
        "single=df['MARRIAGE'][df['MARRIAGE']==2].count()\n",
        "single_default = df['MARRIAGE'][(df['MARRIAGE']==2)&(df['default payment next month']==1)].count()\n",
        "\n",
        "others=df['MARRIAGE'][df['MARRIAGE']==3].count()\n",
        "others_default = df['MARRIAGE'][(df['MARRIAGE']==3)&(df['default payment next month']==1)].count()\n",
        "\n",
        "\n",
        "marriage_total = [married,single,others]\n",
        "default_marriage_total = [married_default,single_default,others_default]\n",
        "\n",
        "plt.bar(_MARRIAGE_RANGE,marriage_total, color='grey')\n",
        "plt.bar(_MARRIAGE_RANGE,default_marriage_total, color='red')\n",
        "plt.xticks([1,2,3],['Married','Single','Other'])\n",
        "plt.legend()\n",
        "plt.show()"
      ],
      "execution_count": 9,
      "outputs": [
        {
          "output_type": "stream",
          "text": [
            "No handles with labels found to put in legend.\n"
          ],
          "name": "stderr"
        },
        {
          "output_type": "display_data",
          "data": {
            "image/png": "[encoded data removed]",
            "text/plain": [
              "<Figure size 720x360 with 1 Axes>"
            ]
          },
          "metadata": {
            "tags": []
          }
        }
      ]
    },
    {
      "cell_type": "markdown",
      "metadata": {
        "id": "LErU5Hc8TXyc",
        "colab_type": "text"
      },
      "source": [
        "#### Percentage defaulters according to marriage status"
      ]
    },
    {
      "cell_type": "code",
      "metadata": {
        "id": "juVdiTt2TUl5",
        "colab_type": "code",
        "colab": {
          "base_uri": "https://localhost:8080/",
          "height": 34
        },
        "outputId": "1285d6ce-53c5-4c73-9754-27b3a9d22043"
      },
      "source": [
        "p_married = (married_default/married)*100\n",
        "p_single = (single_default/single)*100\n",
        "p_others = (others_default/others)*100\n",
        "\n",
        "\n",
        "p_married,p_single,p_others"
      ],
      "execution_count": 10,
      "outputs": [
        {
          "output_type": "execute_result",
          "data": {
            "text/plain": [
              "(23.471703638626547, 20.928338762214985, 26.006191950464398)"
            ]
          },
          "metadata": {
            "tags": []
          },
          "execution_count": 10
        }
      ]
    },
    {
      "cell_type": "markdown",
      "metadata": {
        "id": "AgsyZXPBTj9J",
        "colab_type": "text"
      },
      "source": [
        "### Visualising defaulters according to their education "
      ]
    },
    {
      "cell_type": "code",
      "metadata": {
        "id": "Fc0Ex--uTlst",
        "colab_type": "code",
        "colab": {
          "base_uri": "https://localhost:8080/",
          "height": 357
        },
        "outputId": "b46cc0bb-5afa-44cc-b51c-ab04d8ae0330"
      },
      "source": [
        "_EDUCATION_RANGE= [1,2,3,4]\n",
        "plt.figure(figsize=(10,5))\n",
        "\n",
        "school= df['EDUCATION'][df['EDUCATION']==1].count()\n",
        "school_default = df['EDUCATION'][(df['EDUCATION']==1)&(df['default payment next month'])].count()\n",
        "\n",
        "university= df['EDUCATION'][df['EDUCATION']==2].count()\n",
        "university_default = df['EDUCATION'][(df['EDUCATION']==2)&(df['default payment next month'])].count()\n",
        "\n",
        "high_school= df['EDUCATION'][df['EDUCATION']==3].count()\n",
        "high_school_default = df['EDUCATION'][(df['EDUCATION']==3)&(df['default payment next month'])].count()\n",
        "\n",
        "others= df['EDUCATION'][df['EDUCATION']==4].count()\n",
        "others_default = df['EDUCATION'][(df['EDUCATION']==4)&(df['default payment next month'])].count()\n",
        "\n",
        "education_total = [school,university,high_school,others]\n",
        "default_education_total=  [school_default,university_default,high_school_default,others_default] \n",
        "\n",
        "\n",
        "plt.bar(_EDUCATION_RANGE , education_total,color='grey')\n",
        "plt.bar(_EDUCATION_RANGE , default_education_total,color='red')\n",
        "plt.xticks(_EDUCATION_RANGE,['graduate school','university','high school','others'])\n",
        "\n",
        "plt.legend()\n",
        "plt.show()\n",
        "others,others_default"
      ],
      "execution_count": 11,
      "outputs": [
        {
          "output_type": "stream",
          "text": [
            "No handles with labels found to put in legend.\n"
          ],
          "name": "stderr"
        },
        {
          "output_type": "display_data",
          "data": {
            "image/png": "[encoded data removed]",
            "text/plain": [
              "<Figure size 720x360 with 1 Axes>"
            ]
          },
          "metadata": {
            "tags": []
          }
        },
        {
          "output_type": "execute_result",
          "data": {
            "text/plain": [
              "(123, 7)"
            ]
          },
          "metadata": {
            "tags": []
          },
          "execution_count": 11
        }
      ]
    },
    {
      "cell_type": "markdown",
      "metadata": {
        "id": "Oq-MILN2Tp76",
        "colab_type": "text"
      },
      "source": [
        "#### Percentage defaulters in each educational background"
      ]
    },
    {
      "cell_type": "code",
      "metadata": {
        "id": "3BXRG8zFTuOc",
        "colab_type": "code",
        "colab": {
          "base_uri": "https://localhost:8080/",
          "height": 34
        },
        "outputId": "8e06afcf-cfdb-4c1a-d1d5-e973879a9c2b"
      },
      "source": [
        "p_students = (school_default/school)*100\n",
        "p_university = (university_default/university)*100\n",
        "p_high_school = (high_school_default/high_school)*100\n",
        "p_others = (others_default/others)*100\n",
        "\n",
        "\n",
        "p_students,p_university,p_high_school,p_others"
      ],
      "execution_count": 12,
      "outputs": [
        {
          "output_type": "execute_result",
          "data": {
            "text/plain": [
              "(19.23476617855456, 23.734853884533145, 25.15761643278422, 5.691056910569105)"
            ]
          },
          "metadata": {
            "tags": []
          },
          "execution_count": 12
        }
      ]
    },
    {
      "cell_type": "markdown",
      "metadata": {
        "id": "Dvy8Et8TTzHV",
        "colab_type": "text"
      },
      "source": [
        "### Visualising defaulters according to their sex"
      ]
    },
    {
      "cell_type": "code",
      "metadata": {
        "id": "Q35cg54hTyEq",
        "colab_type": "code",
        "colab": {
          "base_uri": "https://localhost:8080/",
          "height": 340
        },
        "outputId": "cda4aebf-d237-4177-bd0c-5e1ec8a35684"
      },
      "source": [
        "_SEX_RANGE= [1,2]\n",
        "plt.figure(figsize=(10,5))\n",
        "\n",
        "male= df['SEX'][df['SEX']==1].count()\n",
        "male_default = df['SEX'][(df['SEX']==1)&(df['default payment next month']==1)].count()\n",
        "\n",
        "female=df['SEX'][df['SEX']==2].count()\n",
        "female_default = df['SEX'][(df['SEX']==2)&(df['default payment next month']==1)].count()\n",
        "\n",
        "\n",
        "sex_total = [male,female]\n",
        "default_sex_total = [male_default,female_default]\n",
        "\n",
        "plt.bar(_SEX_RANGE,sex_total, color='grey')\n",
        "plt.bar(_SEX_RANGE,default_sex_total, color='red')\n",
        "plt.xticks([1,2],['Male','Female'])\n",
        "plt.legend()\n",
        "plt.show()"
      ],
      "execution_count": 13,
      "outputs": [
        {
          "output_type": "stream",
          "text": [
            "No handles with labels found to put in legend.\n"
          ],
          "name": "stderr"
        },
        {
          "output_type": "display_data",
          "data": {
            "image/png": "[encoded data removed]",
            "text/plain": [
              "<Figure size 720x360 with 1 Axes>"
            ]
          },
          "metadata": {
            "tags": []
          }
        }
      ]
    },
    {
      "cell_type": "markdown",
      "metadata": {
        "id": "d8d6TaTnT_zi",
        "colab_type": "text"
      },
      "source": [
        "#### Percentage defaulters in each sex"
      ]
    },
    {
      "cell_type": "code",
      "metadata": {
        "id": "5czaTL0MUDbx",
        "colab_type": "code",
        "colab": {
          "base_uri": "https://localhost:8080/",
          "height": 34
        },
        "outputId": "318d2287-a3c8-40c4-a226-a36ae36eb441"
      },
      "source": [
        "p_male = (male_default/male)*100\n",
        "p_female = (female_default/female)*100\n",
        "\n",
        "p_male,p_female"
      ],
      "execution_count": 14,
      "outputs": [
        {
          "output_type": "execute_result",
          "data": {
            "text/plain": [
              "(24.16722745625841, 20.776280918727917)"
            ]
          },
          "metadata": {
            "tags": []
          },
          "execution_count": 14
        }
      ]
    },
    {
      "cell_type": "code",
      "metadata": {
        "id": "maMFW2eOUJOT",
        "colab_type": "code",
        "colab": {
          "base_uri": "https://localhost:8080/",
          "height": 301
        },
        "outputId": "ebf69b14-8eef-47ff-bdbd-c468c563ef21"
      },
      "source": [
        "sns.distplot(df['LIMIT_BAL'],kde=True)"
      ],
      "execution_count": 15,
      "outputs": [
        {
          "output_type": "execute_result",
          "data": {
            "text/plain": [
              "<matplotlib.axes._subplots.AxesSubplot at 0x7f89ba69c668>"
            ]
          },
          "metadata": {
            "tags": []
          },
          "execution_count": 15
        },
        {
          "output_type": "display_data",
          "data": {
            "image/png": "[encoded data removed]",
            "text/plain": [
              "<Figure size 432x288 with 1 Axes>"
            ]
          },
          "metadata": {
            "tags": []
          }
        }
      ]
    },
    {
      "cell_type": "markdown",
      "metadata": {
        "id": "ClUsov5CUO52",
        "colab_type": "text"
      },
      "source": [
        "### Visualising defaulters wrt age\n"
      ]
    },
    {
      "cell_type": "code",
      "metadata": {
        "id": "DLkY3jTsUP-A",
        "colab_type": "code",
        "colab": {
          "base_uri": "https://localhost:8080/",
          "height": 337
        },
        "outputId": "3daee73e-4f49-4cb6-9347-ea0abe6c8afd"
      },
      "source": [
        "plt.figure(figsize=(20,5))\n",
        "plt.hist(df['AGE'][(df['default payment next month']==1)], sorted(df['AGE'].unique()),color='blue',alpha = 0.7)\n",
        "plt.xlabel('Age')\n",
        "plt.ylabel('Count')\n",
        "plt.show()"
      ],
      "execution_count": 16,
      "outputs": [
        {
          "output_type": "display_data",
          "data": {
            "image/png": "[encoded data removed]",
            "text/plain": [
              "<Figure size 1440x360 with 1 Axes>"
            ]
          },
          "metadata": {
            "tags": []
          }
        }
      ]
    },
    {
      "cell_type": "markdown",
      "metadata": {
        "id": "p6n3NdI1UVZX",
        "colab_type": "text"
      },
      "source": [
        "### Realising optimum dimensions with minimal losses"
      ]
    },
    {
      "cell_type": "code",
      "metadata": {
        "id": "Zc_88FyuUUDq",
        "colab_type": "code",
        "colab": {
          "base_uri": "https://localhost:8080/",
          "height": 408
        },
        "outputId": "5d257260-6264-4b9e-9444-3d9a66cb5dd0"
      },
      "source": [
        "x = df.loc[:, x_col].values\n",
        "x = StandardScaler().fit_transform(x)\n",
        "for i in range(1,len(df.columns)):\n",
        "    pca = PCA(n_components=i)\n",
        "    temp = x\n",
        "    x = pca.fit_transform(x)\n",
        "    x = temp\n",
        "    l = pca.explained_variance_ratio_\n",
        "    #explained variance ratio tells us about the information retained at each dimension/component\n",
        "    info_loss = 1\n",
        "    for j in l:\n",
        "        info_loss-=j\n",
        "    print(\"information loss by retaining \" + str(i) +\" components is \" + str(info_loss*100) + \" percent\")"
      ],
      "execution_count": 17,
      "outputs": [
        {
          "output_type": "stream",
          "text": [
            "information loss by retaining 1 components is 71.5517854743898 percent\n",
            "information loss by retaining 2 components is 53.73296848909867 percent\n",
            "information loss by retaining 3 components is 46.98982618399407 percent\n",
            "information loss by retaining 4 components is 40.58852005321923 percent\n",
            "information loss by retaining 5 components is 36.13098916148421 percent\n",
            "information loss by retaining 6 components is 31.969215874131095 percent\n",
            "information loss by retaining 7 components is 28.023182882405568 percent\n",
            "information loss by retaining 8 components is 24.163978707584928 percent\n",
            "information loss by retaining 9 components is 20.375937192193096 percent\n",
            "information loss by retaining 10 components is 16.971895196467194 percent\n",
            "information loss by retaining 11 components is 13.785859558997432 percent\n",
            "information loss by retaining 12 components is 10.81707188411222 percent\n",
            "information loss by retaining 13 components is 8.334686666252859 percent\n",
            "information loss by retaining 14 components is 6.054730598983597 percent\n",
            "information loss by retaining 15 components is 4.299771774393851 percent\n",
            "information loss by retaining 16 components is 3.1698283713925415 percent\n",
            "information loss by retaining 17 components is 2.0866610618230244 percent\n",
            "information loss by retaining 18 components is 1.2662654106409537 percent\n",
            "information loss by retaining 19 components is 0.693281526112924 percent\n",
            "information loss by retaining 20 components is 0.388256787153197 percent\n",
            "information loss by retaining 21 components is 0.21093244061582353 percent\n",
            "information loss by retaining 22 components is 0.10095317856516205 percent\n",
            "information loss by retaining 23 components is -1.1102230246251565e-14 percent\n"
          ],
          "name": "stdout"
        }
      ]
    },
    {
      "cell_type": "markdown",
      "metadata": {
        "id": "Rq9OfedNUgWU",
        "colab_type": "text"
      },
      "source": [
        "### Calculating accuracy using statistical models"
      ]
    },
    {
      "cell_type": "code",
      "metadata": {
        "id": "a91DDNf3UhN8",
        "colab_type": "code",
        "colab": {}
      },
      "source": [
        "X = df[x_col]\n",
        "Y = df[y_col]"
      ],
      "execution_count": 0,
      "outputs": []
    },
    {
      "cell_type": "code",
      "metadata": {
        "id": "ZAk-pDDAU63P",
        "colab_type": "code",
        "colab": {
          "base_uri": "https://localhost:8080/",
          "height": 255
        },
        "outputId": "3fc05cf0-49cc-4036-ceb9-ab7f3ecef653"
      },
      "source": [
        "X.head()"
      ],
      "execution_count": 19,
      "outputs": [
        {
          "output_type": "execute_result",
          "data": {
            "text/html": [
              "<div>\n",
              "<style scoped>\n",
              "    .dataframe tbody tr th:only-of-type {\n",
              "        vertical-align: middle;\n",
              "    }\n",
              "\n",
              "    .dataframe tbody tr th {\n",
              "        vertical-align: top;\n",
              "    }\n",
              "\n",
              "    .dataframe thead th {\n",
              "        text-align: right;\n",
              "    }\n",
              "</style>\n",
              "<table border=\"1\" class=\"dataframe\">\n",
              "  <thead>\n",
              "    <tr style=\"text-align: right;\">\n",
              "      <th></th>\n",
              "      <th>LIMIT_BAL</th>\n",
              "      <th>SEX</th>\n",
              "      <th>EDUCATION</th>\n",
              "      <th>MARRIAGE</th>\n",
              "      <th>AGE</th>\n",
              "      <th>PAY_0</th>\n",
              "      <th>PAY_2</th>\n",
              "      <th>PAY_3</th>\n",
              "      <th>PAY_4</th>\n",
              "      <th>PAY_5</th>\n",
              "      <th>PAY_6</th>\n",
              "      <th>BILL_AMT1</th>\n",
              "      <th>BILL_AMT2</th>\n",
              "      <th>BILL_AMT3</th>\n",
              "      <th>BILL_AMT4</th>\n",
              "      <th>BILL_AMT5</th>\n",
              "      <th>BILL_AMT6</th>\n",
              "      <th>PAY_AMT1</th>\n",
              "      <th>PAY_AMT2</th>\n",
              "      <th>PAY_AMT3</th>\n",
              "      <th>PAY_AMT4</th>\n",
              "      <th>PAY_AMT5</th>\n",
              "      <th>PAY_AMT6</th>\n",
              "    </tr>\n",
              "    <tr>\n",
              "      <th>ID</th>\n",
              "      <th></th>\n",
              "      <th></th>\n",
              "      <th></th>\n",
              "      <th></th>\n",
              "      <th></th>\n",
              "      <th></th>\n",
              "      <th></th>\n",
              "      <th></th>\n",
              "      <th></th>\n",
              "      <th></th>\n",
              "      <th></th>\n",
              "      <th></th>\n",
              "      <th></th>\n",
              "      <th></th>\n",
              "      <th></th>\n",
              "      <th></th>\n",
              "      <th></th>\n",
              "      <th></th>\n",
              "      <th></th>\n",
              "      <th></th>\n",
              "      <th></th>\n",
              "      <th></th>\n",
              "      <th></th>\n",
              "    </tr>\n",
              "  </thead>\n",
              "  <tbody>\n",
              "    <tr>\n",
              "      <th>1</th>\n",
              "      <td>20000</td>\n",
              "      <td>2</td>\n",
              "      <td>2</td>\n",
              "      <td>1</td>\n",
              "      <td>24</td>\n",
              "      <td>2</td>\n",
              "      <td>2</td>\n",
              "      <td>-1</td>\n",
              "      <td>-1</td>\n",
              "      <td>-2</td>\n",
              "      <td>-2</td>\n",
              "      <td>3913</td>\n",
              "      <td>3102</td>\n",
              "      <td>689</td>\n",
              "      <td>0</td>\n",
              "      <td>0</td>\n",
              "      <td>0</td>\n",
              "      <td>0</td>\n",
              "      <td>689</td>\n",
              "      <td>0</td>\n",
              "      <td>0</td>\n",
              "      <td>0</td>\n",
              "      <td>0</td>\n",
              "    </tr>\n",
              "    <tr>\n",
              "      <th>2</th>\n",
              "      <td>120000</td>\n",
              "      <td>2</td>\n",
              "      <td>2</td>\n",
              "      <td>2</td>\n",
              "      <td>26</td>\n",
              "      <td>-1</td>\n",
              "      <td>2</td>\n",
              "      <td>0</td>\n",
              "      <td>0</td>\n",
              "      <td>0</td>\n",
              "      <td>2</td>\n",
              "      <td>2682</td>\n",
              "      <td>1725</td>\n",
              "      <td>2682</td>\n",
              "      <td>3272</td>\n",
              "      <td>3455</td>\n",
              "      <td>3261</td>\n",
              "      <td>0</td>\n",
              "      <td>1000</td>\n",
              "      <td>1000</td>\n",
              "      <td>1000</td>\n",
              "      <td>0</td>\n",
              "      <td>2000</td>\n",
              "    </tr>\n",
              "    <tr>\n",
              "      <th>3</th>\n",
              "      <td>90000</td>\n",
              "      <td>2</td>\n",
              "      <td>2</td>\n",
              "      <td>2</td>\n",
              "      <td>34</td>\n",
              "      <td>0</td>\n",
              "      <td>0</td>\n",
              "      <td>0</td>\n",
              "      <td>0</td>\n",
              "      <td>0</td>\n",
              "      <td>0</td>\n",
              "      <td>29239</td>\n",
              "      <td>14027</td>\n",
              "      <td>13559</td>\n",
              "      <td>14331</td>\n",
              "      <td>14948</td>\n",
              "      <td>15549</td>\n",
              "      <td>1518</td>\n",
              "      <td>1500</td>\n",
              "      <td>1000</td>\n",
              "      <td>1000</td>\n",
              "      <td>1000</td>\n",
              "      <td>5000</td>\n",
              "    </tr>\n",
              "    <tr>\n",
              "      <th>4</th>\n",
              "      <td>50000</td>\n",
              "      <td>2</td>\n",
              "      <td>2</td>\n",
              "      <td>1</td>\n",
              "      <td>37</td>\n",
              "      <td>0</td>\n",
              "      <td>0</td>\n",
              "      <td>0</td>\n",
              "      <td>0</td>\n",
              "      <td>0</td>\n",
              "      <td>0</td>\n",
              "      <td>46990</td>\n",
              "      <td>48233</td>\n",
              "      <td>49291</td>\n",
              "      <td>28314</td>\n",
              "      <td>28959</td>\n",
              "      <td>29547</td>\n",
              "      <td>2000</td>\n",
              "      <td>2019</td>\n",
              "      <td>1200</td>\n",
              "      <td>1100</td>\n",
              "      <td>1069</td>\n",
              "      <td>1000</td>\n",
              "    </tr>\n",
              "    <tr>\n",
              "      <th>5</th>\n",
              "      <td>50000</td>\n",
              "      <td>1</td>\n",
              "      <td>2</td>\n",
              "      <td>1</td>\n",
              "      <td>57</td>\n",
              "      <td>-1</td>\n",
              "      <td>0</td>\n",
              "      <td>-1</td>\n",
              "      <td>0</td>\n",
              "      <td>0</td>\n",
              "      <td>0</td>\n",
              "      <td>8617</td>\n",
              "      <td>5670</td>\n",
              "      <td>35835</td>\n",
              "      <td>20940</td>\n",
              "      <td>19146</td>\n",
              "      <td>19131</td>\n",
              "      <td>2000</td>\n",
              "      <td>36681</td>\n",
              "      <td>10000</td>\n",
              "      <td>9000</td>\n",
              "      <td>689</td>\n",
              "      <td>679</td>\n",
              "    </tr>\n",
              "  </tbody>\n",
              "</table>\n",
              "</div>"
            ],
            "text/plain": [
              "    LIMIT_BAL  SEX  EDUCATION  MARRIAGE  ...  PAY_AMT3  PAY_AMT4  PAY_AMT5  PAY_AMT6\n",
              "ID                                       ...                                        \n",
              "1       20000    2          2         1  ...         0         0         0         0\n",
              "2      120000    2          2         2  ...      1000      1000         0      2000\n",
              "3       90000    2          2         2  ...      1000      1000      1000      5000\n",
              "4       50000    2          2         1  ...      1200      1100      1069      1000\n",
              "5       50000    1          2         1  ...     10000      9000       689       679\n",
              "\n",
              "[5 rows x 23 columns]"
            ]
          },
          "metadata": {
            "tags": []
          },
          "execution_count": 19
        }
      ]
    },
    {
      "cell_type": "code",
      "metadata": {
        "id": "vPkOOQmpU8wR",
        "colab_type": "code",
        "colab": {
          "base_uri": "https://localhost:8080/",
          "height": 136
        },
        "outputId": "17bdceca-c45c-46f6-a263-e87137ba2034"
      },
      "source": [
        "Y.head()"
      ],
      "execution_count": 20,
      "outputs": [
        {
          "output_type": "execute_result",
          "data": {
            "text/plain": [
              "ID\n",
              "1    1\n",
              "2    1\n",
              "3    0\n",
              "4    0\n",
              "5    0\n",
              "Name: default payment next month, dtype: int64"
            ]
          },
          "metadata": {
            "tags": []
          },
          "execution_count": 20
        }
      ]
    },
    {
      "cell_type": "code",
      "metadata": {
        "id": "7MP6hzpjVBXb",
        "colab_type": "code",
        "colab": {}
      },
      "source": [
        "x_train,x_test,y_train,y_test = train_test_split(X,Y,test_size=0.25,random_state=0)"
      ],
      "execution_count": 0,
      "outputs": []
    },
    {
      "cell_type": "markdown",
      "metadata": {
        "id": "Ro15PSg_VI2N",
        "colab_type": "text"
      },
      "source": [
        "#### Using random forest classifier"
      ]
    },
    {
      "cell_type": "code",
      "metadata": {
        "id": "d8O_y_G4VG54",
        "colab_type": "code",
        "colab": {
          "base_uri": "https://localhost:8080/",
          "height": 173
        },
        "outputId": "d6a28bec-6eff-4d84-803b-3d69dc69b7bd"
      },
      "source": [
        "clf = RandomForestClassifier(random_state=24)\n",
        "clf.fit(x_train,y_train)\n",
        "score = clf.score(x_test,y_test)\n",
        "score,clf.feature_importances_"
      ],
      "execution_count": 22,
      "outputs": [
        {
          "output_type": "stream",
          "text": [
            "/usr/local/lib/python3.6/dist-packages/sklearn/ensemble/forest.py:245: FutureWarning: The default value of n_estimators will change from 10 in version 0.20 to 100 in 0.22.\n",
            "  \"10 in version 0.20 to 100 in 0.22.\", FutureWarning)\n"
          ],
          "name": "stderr"
        },
        {
          "output_type": "execute_result",
          "data": {
            "text/plain": [
              "(0.8098666666666666,\n",
              " array([0.05960552, 0.01379381, 0.01967705, 0.01365326, 0.06391517,\n",
              "        0.10724945, 0.02192881, 0.0355277 , 0.02794781, 0.01609513,\n",
              "        0.02253106, 0.06218969, 0.05610308, 0.05189653, 0.0527299 ,\n",
              "        0.05086696, 0.05129282, 0.04990021, 0.0470319 , 0.04509674,\n",
              "        0.04090538, 0.04443697, 0.04562503]))"
            ]
          },
          "metadata": {
            "tags": []
          },
          "execution_count": 22
        }
      ]
    },
    {
      "cell_type": "markdown",
      "metadata": {
        "id": "fU3O569KVQIm",
        "colab_type": "text"
      },
      "source": [
        "#### Using Gradient boosting classifier"
      ]
    },
    {
      "cell_type": "code",
      "metadata": {
        "id": "mp4aQvlrVVoJ",
        "colab_type": "code",
        "colab": {
          "base_uri": "https://localhost:8080/",
          "height": 34
        },
        "outputId": "9a4e5328-c778-4e02-b7b8-ea15cd94db2a"
      },
      "source": [
        "clf = GradientBoostingClassifier(random_state=24,n_estimators=10,max_depth=4)\n",
        "clf.fit(x_train,y_train)\n",
        "score = clf.score(x_test,y_test)\n",
        "score"
      ],
      "execution_count": 23,
      "outputs": [
        {
          "output_type": "execute_result",
          "data": {
            "text/plain": [
              "0.8188"
            ]
          },
          "metadata": {
            "tags": []
          },
          "execution_count": 23
        }
      ]
    },
    {
      "cell_type": "markdown",
      "metadata": {
        "id": "16vKbZgSVZtn",
        "colab_type": "text"
      },
      "source": [
        "#### Using adaboost classifier"
      ]
    },
    {
      "cell_type": "code",
      "metadata": {
        "id": "kPi-eiyYVck2",
        "colab_type": "code",
        "colab": {
          "base_uri": "https://localhost:8080/",
          "height": 34
        },
        "outputId": "5849ecd3-51fc-4e54-918a-341a08389b59"
      },
      "source": [
        "clf = AdaBoostClassifier(random_state=24)\n",
        "clf.fit(x_train,y_train)\n",
        "score = clf.score(x_test,y_test)\n",
        "score"
      ],
      "execution_count": 24,
      "outputs": [
        {
          "output_type": "execute_result",
          "data": {
            "text/plain": [
              "0.8212"
            ]
          },
          "metadata": {
            "tags": []
          },
          "execution_count": 24
        }
      ]
    },
    {
      "cell_type": "markdown",
      "metadata": {
        "id": "Ae_mRUiGVgA7",
        "colab_type": "text"
      },
      "source": [
        "#### Using decision tree classifier"
      ]
    },
    {
      "cell_type": "code",
      "metadata": {
        "id": "zZku-jr0VmWs",
        "colab_type": "code",
        "colab": {
          "base_uri": "https://localhost:8080/",
          "height": 34
        },
        "outputId": "b4271202-e34a-425b-d582-e0fab03895a6"
      },
      "source": [
        "clf = DecisionTreeClassifier(random_state=24,max_leaf_nodes=3)\n",
        "clf.fit(x_train,y_train)\n",
        "score = clf.score(x_test,y_test)\n",
        "score"
      ],
      "execution_count": 25,
      "outputs": [
        {
          "output_type": "execute_result",
          "data": {
            "text/plain": [
              "0.8269333333333333"
            ]
          },
          "metadata": {
            "tags": []
          },
          "execution_count": 25
        }
      ]
    },
    {
      "cell_type": "markdown",
      "metadata": {
        "id": "bS09XyVfVux-",
        "colab_type": "text"
      },
      "source": [
        "### Normalising the data"
      ]
    },
    {
      "cell_type": "code",
      "metadata": {
        "id": "kuUZFUUjvLae",
        "colab_type": "code",
        "colab": {
          "base_uri": "https://localhost:8080/",
          "height": 238
        },
        "outputId": "26aa2e4b-1275-4aec-c742-189c03ee8833"
      },
      "source": [
        "sc = StandardScaler()\n",
        "X = sc.fit_transform(x)\n",
        "X"
      ],
      "execution_count": 39,
      "outputs": [
        {
          "output_type": "execute_result",
          "data": {
            "text/plain": [
              "array([[-1.13672015,  0.81016074,  0.18582826, ..., -0.30806256,\n",
              "        -0.31413612, -0.29338206],\n",
              "       [-0.3659805 ,  0.81016074,  0.18582826, ..., -0.24422965,\n",
              "        -0.31413612, -0.18087821],\n",
              "       [-0.59720239,  0.81016074,  0.18582826, ..., -0.24422965,\n",
              "        -0.24868274, -0.01212243],\n",
              "       ...,\n",
              "       [-1.05964618, -1.23432296,  0.18582826, ..., -0.03996431,\n",
              "        -0.18322937, -0.11900109],\n",
              "       [-0.67427636, -1.23432296,  1.45111372, ..., -0.18512036,\n",
              "         3.15253642, -0.19190359],\n",
              "       [-0.90549825, -1.23432296,  0.18582826, ..., -0.24422965,\n",
              "        -0.24868274, -0.23713013]])"
            ]
          },
          "metadata": {
            "tags": []
          },
          "execution_count": 39
        }
      ]
    },
    {
      "cell_type": "code",
      "metadata": {
        "id": "pcBOiSckdTfX",
        "colab_type": "code",
        "colab": {}
      },
      "source": [
        "x_train,x_test,y_train,y_test = train_test_split(X,Y,test_size=0.2)"
      ],
      "execution_count": 0,
      "outputs": []
    },
    {
      "cell_type": "markdown",
      "metadata": {
        "id": "j2BzoY9nV_rv",
        "colab_type": "text"
      },
      "source": [
        "### Using Neural Networks"
      ]
    },
    {
      "cell_type": "code",
      "metadata": {
        "id": "ySIGjnY9vrNG",
        "colab_type": "code",
        "colab": {}
      },
      "source": [
        "classifier = Sequential()\n",
        "#First Hidden Layer\n",
        "classifier.add(Dense(8, activation='relu', kernel_initializer='random_normal', input_dim=23))\n",
        "#Second  Hidden Layer\n",
        "classifier.add(Dense(32, activation='relu', kernel_initializer='random_normal'))\n",
        "#Third Hideen Layer\n",
        "classifier.add(Dense(64, activation='relu', kernel_initializer='random_normal'))\n",
        "#Fourth Hidden Layer\n",
        "classifier.add(Dense(8, activation='relu', kernel_initializer='random_normal'))\n",
        "#Output Layer\n",
        "classifier.add(Dense(1, activation='sigmoid', kernel_initializer='random_normal'))"
      ],
      "execution_count": 0,
      "outputs": []
    },
    {
      "cell_type": "code",
      "metadata": {
        "id": "wDtqVknYv4yL",
        "colab_type": "code",
        "colab": {}
      },
      "source": [
        "classifier.compile(optimizer ='adam',loss='binary_crossentropy', metrics =['accuracy'])"
      ],
      "execution_count": 0,
      "outputs": []
    },
    {
      "cell_type": "code",
      "metadata": {
        "id": "i085oG4Lv-B1",
        "colab_type": "code",
        "colab": {
          "base_uri": "https://localhost:8080/",
          "height": 714
        },
        "outputId": "f3c88cee-8d05-451f-c892-73924932ad94"
      },
      "source": [
        "classifier.fit(x_train,y_train, batch_size=10, epochs=20)"
      ],
      "execution_count": 43,
      "outputs": [
        {
          "output_type": "stream",
          "text": [
            "Epoch 1/20\n",
            "24000/24000 [==============================] - 14s 572us/step - loss: 0.4813 - acc: 0.7959\n",
            "Epoch 2/20\n",
            "24000/24000 [==============================] - 13s 562us/step - loss: 0.4532 - acc: 0.8145\n",
            "Epoch 3/20\n",
            "24000/24000 [==============================] - 13s 560us/step - loss: 0.4462 - acc: 0.8158\n",
            "Epoch 4/20\n",
            "24000/24000 [==============================] - 13s 556us/step - loss: 0.4430 - acc: 0.8167\n",
            "Epoch 5/20\n",
            "24000/24000 [==============================] - 13s 556us/step - loss: 0.4404 - acc: 0.8175\n",
            "Epoch 6/20\n",
            "24000/24000 [==============================] - 14s 571us/step - loss: 0.4389 - acc: 0.8183\n",
            "Epoch 7/20\n",
            "24000/24000 [==============================] - 13s 562us/step - loss: 0.4386 - acc: 0.8181\n",
            "Epoch 8/20\n",
            "24000/24000 [==============================] - 13s 551us/step - loss: 0.4374 - acc: 0.8193\n",
            "Epoch 9/20\n",
            "24000/24000 [==============================] - 13s 555us/step - loss: 0.4365 - acc: 0.8185\n",
            "Epoch 10/20\n",
            "24000/24000 [==============================] - 13s 551us/step - loss: 0.4364 - acc: 0.8182\n",
            "Epoch 11/20\n",
            "24000/24000 [==============================] - 13s 546us/step - loss: 0.4346 - acc: 0.8182\n",
            "Epoch 12/20\n",
            "24000/24000 [==============================] - 13s 553us/step - loss: 0.4338 - acc: 0.8188\n",
            "Epoch 13/20\n",
            "24000/24000 [==============================] - 13s 556us/step - loss: 0.4336 - acc: 0.8188\n",
            "Epoch 14/20\n",
            "24000/24000 [==============================] - 13s 543us/step - loss: 0.4323 - acc: 0.8192\n",
            "Epoch 15/20\n",
            "24000/24000 [==============================] - 13s 541us/step - loss: 0.4315 - acc: 0.8199\n",
            "Epoch 16/20\n",
            "24000/24000 [==============================] - 13s 541us/step - loss: 0.4320 - acc: 0.8192\n",
            "Epoch 17/20\n",
            "24000/24000 [==============================] - 13s 538us/step - loss: 0.4314 - acc: 0.8195\n",
            "Epoch 18/20\n",
            "24000/24000 [==============================] - 13s 535us/step - loss: 0.4308 - acc: 0.8202\n",
            "Epoch 19/20\n",
            "24000/24000 [==============================] - 13s 550us/step - loss: 0.4304 - acc: 0.8210\n",
            "Epoch 20/20\n",
            "24000/24000 [==============================] - 13s 542us/step - loss: 0.4296 - acc: 0.8214\n"
          ],
          "name": "stdout"
        },
        {
          "output_type": "execute_result",
          "data": {
            "text/plain": [
              "<keras.callbacks.History at 0x7f89bd30d898>"
            ]
          },
          "metadata": {
            "tags": []
          },
          "execution_count": 43
        }
      ]
    },
    {
      "cell_type": "code",
      "metadata": {
        "id": "ZDrYVWUFwBWm",
        "colab_type": "code",
        "colab": {}
      },
      "source": [
        ""
      ],
      "execution_count": 0,
      "outputs": []
    }
  ]
}